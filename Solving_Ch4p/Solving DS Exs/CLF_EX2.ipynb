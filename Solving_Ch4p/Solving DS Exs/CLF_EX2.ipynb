{
 "cells": [
  {
   "cell_type": "markdown",
   "id": "7d5e818c",
   "metadata": {},
   "source": [
    "## EX 2 - Conditional Statements, Loops, and Functions\n",
    "**Task 1:** Write a program that takes two numbers as inputs from the user and prints their sum."
   ]
  },
  {
   "cell_type": "code",
   "execution_count": 82,
   "id": "a611fc73",
   "metadata": {},
   "outputs": [
    {
     "name": "stdout",
     "output_type": "stream",
     "text": [
      "The Summation of 3 AND 4 is : 7\n"
     ]
    }
   ],
   "source": [
    "Num1 = int(input(\"Enter The First Number plz :\"))  # The Number Entered was 3\n",
    "Num2 = int(input(\"Enter The Second Number plz :\")) # The Number Entered was 4\n",
    "print(f\"The Summation of {Num1} AND {Num2} is : {Num1+Num2}\")"
   ]
  },
  {
   "cell_type": "markdown",
   "id": "a4f6674e",
   "metadata": {},
   "source": [
    "**Task 2:** Write a program that takes an integer input from the user. Use a `for` loop to print all numbers from that integer down to 0."
   ]
  },
  {
   "cell_type": "code",
   "execution_count": 83,
   "id": "2961edde",
   "metadata": {},
   "outputs": [
    {
     "name": "stdout",
     "output_type": "stream",
     "text": [
      "5\n",
      "4\n",
      "3\n",
      "2\n",
      "1\n",
      "0\n"
     ]
    }
   ],
   "source": [
    "Num=int(input(\"Enter A Number Plz :\")) # The Number Entered was 5\n",
    "\n",
    "for i in range(Num,-1,-1): \n",
    "# make use of the Range(Num = Starting point / -1 = Ending point(-1 Not Engaged) / -1 = The steps)\n",
    "    print(i)\n",
    "   "
   ]
  },
  {
   "cell_type": "markdown",
   "id": "fff474c9",
   "metadata": {},
   "source": [
    "**Task 3:** Write a program that takes an integer input from the user. Use a `while` loop to keep doubling the number until it is greater than 1000, then print the result."
   ]
  },
  {
   "cell_type": "code",
   "execution_count": 84,
   "id": "aa6df2fc",
   "metadata": {},
   "outputs": [
    {
     "name": "stdout",
     "output_type": "stream",
     "text": [
      "1536\n"
     ]
    }
   ],
   "source": [
    "Number=int(input(\"Enter A Number Plz :\"))    # The Number Entered was 3\n",
    "while Number < 1000 :                        # Checking if The Number is less than 1000 \n",
    "    Number = Number * 2                      # Doubling the Number by Multiplying it by 2\n",
    "print(Number)                 \n",
    "   "
   ]
  },
  {
   "cell_type": "markdown",
   "id": "81203f7a",
   "metadata": {},
   "source": [
    "**Task 4:** Write a function that takes a number as input and returns the square of the number. Use it in a program that takes an input from the user and prints the square."
   ]
  },
  {
   "cell_type": "code",
   "execution_count": 86,
   "id": "ade8d55f",
   "metadata": {},
   "outputs": [
    {
     "name": "stdout",
     "output_type": "stream",
     "text": [
      "The Square of 4 is : 16\n"
     ]
    }
   ],
   "source": [
    "def Func(num):\n",
    "    return (num**2)  #Returning the Square of The Number \n",
    "\n",
    "num = (int(input(\"Enter A Number Plz :\")))  # The Number Entered was 4\n",
    "\n",
    "print(f\"The Square of {num} is : {Func(num)}\")"
   ]
  },
  {
   "cell_type": "markdown",
   "id": "a6ff9323",
   "metadata": {},
   "source": [
    "**Task 5:** Write a program that takes a number as input from the user. If the number is greater than 10, print \"Big number\". If the number is less than or equal to 10, print \"Small number\"."
   ]
  },
  {
   "cell_type": "code",
   "execution_count": 87,
   "id": "1cd45422",
   "metadata": {},
   "outputs": [
    {
     "name": "stdout",
     "output_type": "stream",
     "text": [
      "Big Number\n"
     ]
    }
   ],
   "source": [
    "number = (int(input(\"Enter A Number Plz :\")))   # The Number  Entered was : 20 \n",
    "\n",
    "if number > 10 :\n",
    "    print(\"Big Number\")\n",
    "elif number <= 10 :\n",
    "    print(\"Small Number\")    "
   ]
  },
  {
   "cell_type": "markdown",
   "id": "00c68199",
   "metadata": {},
   "source": [
    "**Task 6:** Write a function that takes two numbers as inputs and returns their product. Use this function in a program that takes two inputs from the user and prints the product."
   ]
  },
  {
   "cell_type": "code",
   "execution_count": 1,
   "id": "d6810146",
   "metadata": {},
   "outputs": [
    {
     "name": "stdout",
     "output_type": "stream",
     "text": [
      "The Product of 4 And 5 is : 20\n"
     ]
    }
   ],
   "source": [
    "def Func(Number1 , Number2):\n",
    "    return (Number1 * Number2)\n",
    "\n",
    "First_Num = int(input(\"Enter The First Number plz :\"))\n",
    "Second_Num = int(input(\"Enter The Second Number plz :\"))\n",
    "\n",
    "print(f\"The Product of {First_Num} And {Second_Num} is : {Func(First_Num,Second_Num)}\")"
   ]
  },
  {
   "cell_type": "markdown",
   "id": "80b77b35",
   "metadata": {},
   "source": [
    "**Task 7:** Write a program that uses a `while` loop to take a number as input from the user, subtract 5, and print the result. Continue this until the result is less than 0."
   ]
  },
  {
   "cell_type": "code",
   "execution_count": 3,
   "id": "275e80c0",
   "metadata": {},
   "outputs": [
    {
     "name": "stdout",
     "output_type": "stream",
     "text": [
      "The Number : 20\n",
      "\n",
      "The Result : 15\n",
      "The Result : 10\n",
      "The Result : 5\n",
      "The Result : 0\n",
      "The Result : -5\n",
      "The End, The Result is Less Than Zero\n"
     ]
    }
   ],
   "source": [
    "numberr = (int(input(\"Enter A Number Plz :\")))\n",
    "\n",
    "print(f\"The Number : {numberr}\\n\")   # The Number Entered was 20\n",
    "\n",
    "while numberr >= 0 : \n",
    "    numberr-= 5\n",
    "    print(f\"The Result : {numberr}\")\n",
    "print(\"The End, The Result is Less Than Zero\")    "
   ]
  },
  {
   "cell_type": "markdown",
   "id": "f5d65e7f",
   "metadata": {},
   "source": [
    "**Task 8:** Write a program that uses a `for` loop to take an integer input from the user and print the factorial of that number."
   ]
  },
  {
   "cell_type": "code",
   "execution_count": 2,
   "id": "1f7476c0",
   "metadata": {},
   "outputs": [
    {
     "name": "stdout",
     "output_type": "stream",
     "text": [
      "The Factorial of 5 is : 120\n"
     ]
    }
   ],
   "source": [
    "NUM=(int(input(\"Enter A Number Plz :\"))) # The Number Entered was 5\n",
    "\n",
    "Factorial = 1\n",
    "\n",
    "for i in range(NUM,0,-1):\n",
    "    Factorial = Factorial * i\n",
    "\n",
    "print(f\"The Factorial of {NUM} is : {Factorial}\")    \n"
   ]
  },
  {
   "cell_type": "markdown",
   "id": "d092be0b",
   "metadata": {},
   "source": [
    "**Task 9:** Write a program that takes a number as input from the user. If the number is positive, print \"Positive\". If the number is negative, print \"Negative\". If the number is zero, print \"Zero\"."
   ]
  },
  {
   "cell_type": "code",
   "execution_count": 4,
   "id": "e4b38dfc",
   "metadata": {},
   "outputs": [
    {
     "name": "stdout",
     "output_type": "stream",
     "text": [
      "Positive\n"
     ]
    }
   ],
   "source": [
    "UNumber = (int(input(\"Enter A Number Plz :\")))   # The Number  Entered was : 5 \n",
    "\n",
    "if UNumber > 0 :\n",
    "    print(\"Positive\")\n",
    "\n",
    "elif UNumber < 0 :\n",
    "    print(\"Negative\")\n",
    "    \n",
    "else :\n",
    "    print(\"Zero\")"
   ]
  },
  {
   "cell_type": "markdown",
   "id": "e197633c",
   "metadata": {},
   "source": [
    "**Task 10:** Write a lambda function that takes two numbers as inputs and returns their division as a floating-point number. Use this function in a program that takes two inputs from the user and prints the division."
   ]
  },
  {
   "cell_type": "code",
   "execution_count": 5,
   "id": "e0e33844",
   "metadata": {},
   "outputs": [
    {
     "name": "stdout",
     "output_type": "stream",
     "text": [
      "The First Number : 20.0\n",
      "The Second Number : 4.0\n",
      "The Result Of Division is: 5.0\n"
     ]
    }
   ],
   "source": [
    "NUMBER1 = float(input(\"Enter The First Number plz :\"))  # The Number Entered was 20\n",
    "NUMBER2 = float(input(\"Enter The Second Number plz :\")) # The Number Entered was 4\n",
    "\n",
    "Devision = lambda NUMM1,NUMM2 : float(NUMM1 / NUMM2)    # use of Lambda Function \n",
    "\n",
    "# Ensure That  Division By Zero Is Not Allowed\n",
    "\n",
    "if NUMBER2 !=0:\n",
    "  print(f\"The First Number : {NUMBER1}\",\n",
    "    f\"The Second Number : {NUMBER2}\",\n",
    "    f\"The Result Of Division is: {Devision(NUMBER1,NUMBER2)}\",sep=\"\\n\")\n",
    "  \n",
    "else : \n",
    "  print(\"Division By Zero Is Not Allowed\")  \n"
   ]
  }
 ],
 "metadata": {
  "kernelspec": {
   "display_name": "Solving_Ch4p",
   "language": "python",
   "name": "python3"
  },
  "language_info": {
   "codemirror_mode": {
    "name": "ipython",
    "version": 3
   },
   "file_extension": ".py",
   "mimetype": "text/x-python",
   "name": "python",
   "nbconvert_exporter": "python",
   "pygments_lexer": "ipython3",
   "version": "3.12.4"
  }
 },
 "nbformat": 4,
 "nbformat_minor": 5
}
