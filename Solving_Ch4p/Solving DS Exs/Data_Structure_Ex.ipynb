{
 "cells": [
  {
   "cell_type": "markdown",
   "id": "3d65f34a",
   "metadata": {},
   "source": [
    "## EX 1 - Data Structures\n",
    "### Q3 **Strings** :\n",
    "   1. Write a function to count the number of vowels in a given string.\n",
    "   2. Write a function that takes a string and returns the same string but with every second letter capitalized."
   ]
  },
  {
   "cell_type": "code",
   "execution_count": 1,
   "id": "fe5ea006",
   "metadata": {},
   "outputs": [
    {
     "name": "stdout",
     "output_type": "stream",
     "text": [
      "The Number Of Vowels in Your String is : 7\n"
     ]
    }
   ],
   "source": [
    "def Func(Str):\n",
    "    Vowels = \"aeiouAEIOU\"\n",
    "    count = 0\n",
    "    for char in Str:\n",
    "        if char in Vowels:\n",
    "            count=count+1\n",
    "    return count\n",
    "Str = input(\"Enter Your String plz :\")\n",
    "print(f\"The Number Of Vowels in Your String is : {Func(Str)}\")            "
   ]
  },
  {
   "cell_type": "code",
   "execution_count": 95,
   "id": "ea7f9697",
   "metadata": {},
   "outputs": [
    {
     "name": "stdout",
     "output_type": "stream",
     "text": [
      "hAmza kHeir mAyyoof\n"
     ]
    }
   ],
   "source": [
    "def Func(Str):\n",
    "   Words = Str.split(\" \") # 'Words' is a list , on each space it split the string \n",
    "   Final=[]\n",
    "   for Word in Words:\n",
    "      \n",
    "      Modify = Word[0]+Word[1].upper()+Word[2:] # make the sec letter Capital\n",
    "\n",
    "      Final.append(Modify)\n",
    "\n",
    "   return \" \".join(Final)  # To Return The String as it was but with Every Second Letter in Upper case \n",
    "\n",
    "\n",
    "\n",
    "\n",
    "Str = input(\"Enter Your String plz :\")\n",
    "print(f\"{Func(Str)}\")            "
   ]
  },
  {
   "cell_type": "markdown",
   "id": "37876c75",
   "metadata": {},
   "source": [
    "## Q2 **List**:\n",
    "3. Write a function that takes a list of numbers and returns a new list containing only the even numbers.\n",
    "4. Write a function that takes a list and returns a new list with duplicate values removed."
   ]
  },
  {
   "cell_type": "code",
   "execution_count": 13,
   "id": "28f3b1c6",
   "metadata": {},
   "outputs": [
    {
     "name": "stdout",
     "output_type": "stream",
     "text": [
      "You Got This List Of Numbers :[14, 12, 2, 7, 9, 10, 16, 23, 45, 11, 19, 18, 27]\n",
      "And The Even Number in That List: [14, 12, 2, 10, 16, 18]\n"
     ]
    }
   ],
   "source": [
    "def Even(Lst):\n",
    "    Even =[]\n",
    "    for i in Lst :\n",
    "        if i % 2 ==0:\n",
    "         Even.append(i)\n",
    "    return Even\n",
    "\n",
    "\"\"\"\n",
    "a Function that Takes a List and defines an Empty List \n",
    "and  'For loop' that Check Ff The Number is Even or not \n",
    "If it is an Even Number then Store (append) it in that Empty List \n",
    "then Return The Empty List \n",
    "\"\"\"\n",
    "# List of Number \n",
    "Lst_num =[ 14,12,2,7,9,10,16,23,45,11,19,18,27]\n",
    "\n",
    "\n",
    "print(f\"You Got This List Of Numbers :{Lst_num}\",\n",
    "      f\"And The Even Number in That List: {Even(Lst_num)}\",sep=\"\\n\")"
   ]
  },
  {
   "cell_type": "code",
   "execution_count": null,
   "id": "72b640da",
   "metadata": {},
   "outputs": [
    {
     "name": "stdout",
     "output_type": "stream",
     "text": [
      "The List Without Duplicating : [0, 1, 2, 4, 7]\n"
     ]
    }
   ],
   "source": [
    "def Remove_dup(Lst):\n",
    "    Remove_Duplicate=set(Lst)\n",
    "    No_Duplicate=list(Remove_Duplicate)\n",
    "    return No_Duplicate\n",
    "\"\"\"\n",
    "a Function that Takes a List and convert it to set which does not allow duplicate \n",
    "and then convert it again to list then return it  \n",
    "\"\"\"\n",
    "# List of Duplicate numbers \n",
    "Lst=[1,1,1,4,4,4,1,1,1,2,2,2,0,0,0,7,7,4]\n",
    "\n",
    "No_Duplicate=list(Remove_dup(Lst))\n",
    "\n",
    "print(f\"The List Without Duplicating : {No_Duplicate}\")\n"
   ]
  },
  {
   "cell_type": "markdown",
   "id": "7d0388ee",
   "metadata": {},
   "source": [
    "## Q3 **Set :**\n",
    "5. Write a Function that takes two sets and return their intersection as a new set\n",
    "6. write a Function that takes two sets and return their union as a new set\n"
   ]
  },
  {
   "cell_type": "code",
   "execution_count": null,
   "id": "aa472499",
   "metadata": {},
   "outputs": [
    {
     "name": "stdout",
     "output_type": "stream",
     "text": [
      "The Intersection Between These Two Sets : {'Student', 2004, 20}\n"
     ]
    }
   ],
   "source": [
    "def Func(Set1,Set2):\n",
    "    Set3 = Set1.intersection(Set2)\n",
    "    return Set3\n",
    "Set1={\"Hamza\", 20, \"Student\", 2004, 12}\n",
    "Set2={20, \"Hazim\", \"Student\", 2004, 11}\n",
    "print(f\"The Intersection Between These Two Sets : {Func(Set1,Set2)}\")"
   ]
  },
  {
   "cell_type": "code",
   "execution_count": 33,
   "id": "0f545d44",
   "metadata": {},
   "outputs": [
    {
     "name": "stdout",
     "output_type": "stream",
     "text": [
      "The Union Between These Two Sets : {'Hamza', 11, 12, 'Hazim', 'Student', 2004, 20}\n"
     ]
    }
   ],
   "source": [
    "def Func(Set1,Set2):\n",
    "    Set3 = Set1.union(Set2)\n",
    "    return Set3\n",
    "Set1={\"Hamza\", 20, \"Student\", 2004, 12}\n",
    "Set2={20, \"Hazim\", \"Student\", 2004, 11}\n",
    "print(f\"The Union Between These Two Sets : {Func(Set1,Set2)}\")"
   ]
  },
  {
   "cell_type": "markdown",
   "id": "f8847d49",
   "metadata": {},
   "source": [
    "## Q4 **Tuple :**\n",
    "7. Write a Function that takes a List of Tuples and Sort them based on the Second Element of each Tuple\n",
    "8. Write a Function that takes a Tuple and return a reversed version of that tuple"
   ]
  },
  {
   "cell_type": "code",
   "execution_count": 71,
   "id": "59812929",
   "metadata": {},
   "outputs": [
    {
     "name": "stdout",
     "output_type": "stream",
     "text": [
      "The Sorted Version Based on Second Element : [(8, 1), (4, 5), (1, 9)]\n"
     ]
    }
   ],
   "source": [
    "def Func(Lists):\n",
    "    def Second(Tuple):\n",
    "        return Tuple[1]\n",
    "    return sorted(Lists, key=Second)\n",
    "    \n",
    "  \n",
    "List = [(1,9),(4,5),(8,1)]\n",
    "\n",
    "print(f\"The Sorted Version Based on Second Element : {Func(List)}\")\n"
   ]
  },
  {
   "cell_type": "code",
   "execution_count": 34,
   "id": "2d429da0",
   "metadata": {},
   "outputs": [
    {
     "name": "stdout",
     "output_type": "stream",
     "text": [
      "The Reversed Version : (2004, 20, 'Hamza', 'Hello')\n"
     ]
    }
   ],
   "source": [
    "def Func(Tuple):\n",
    "    return Tuple[::-1]\n",
    "Tuple = (\"Hello\", \"Hamza\",20,2004)\n",
    "print(f\"The Reversed Version : {Func(Tuple)}\")"
   ]
  },
  {
   "cell_type": "markdown",
   "id": "a9a74c7e",
   "metadata": {},
   "source": [
    "## Q5 **Dictionary :**\n",
    "9. Write a Function that takes a Dictionary and return the key and the value as seperate List\n",
    "10. Write a Function that takes a Dictionary and a Key, and if the key exists in the Dictionary, return it's Value, if the key does not exists, return a default value"
   ]
  },
  {
   "cell_type": "code",
   "execution_count": 57,
   "id": "f49d1dde",
   "metadata": {},
   "outputs": [
    {
     "name": "stdout",
     "output_type": "stream",
     "text": [
      "The Keys of The Dictionary : ['Name', 'Age', 'Born']\n",
      "The Values Of The Dictionary : ['Hamza', 20, 2004]\n"
     ]
    }
   ],
   "source": [
    "def Func(Dic):\n",
    "    return list(Dic.keys()),list( Dic.values())\n",
    "Dic ={\"Name\":\"Hamza\",\"Age\":20,\"Born\":2004}\n",
    "Keys , Values = (Func(Dic))\n",
    "print(f\"The Keys of The Dictionary : {Keys}\",\n",
    "      f\"The Values Of The Dictionary : {Values}\",sep=\"\\n\" )"
   ]
  },
  {
   "cell_type": "code",
   "execution_count": null,
   "id": "59b796b2",
   "metadata": {},
   "outputs": [
    {
     "name": "stdout",
     "output_type": "stream",
     "text": [
      "The Key That Exist in the Dictionary : Name\n"
     ]
    }
   ],
   "source": [
    "def Func(Dic,Key):\n",
    "    if Key in Dic :\n",
    "        return Key\n",
    "    else :\n",
    "        return \"Not Existing :(\"\n",
    "    \n",
    "Dic ={\"Name\":\"Hamza\",\"Age\":20,\"Born\":2004}\n",
    "Key = \"Name\"\n",
    "print(f\"The Key That Exist in the Dictionary : {Func(Dic,Key)}\")    \n",
    "    "
   ]
  }
 ],
 "metadata": {
  "kernelspec": {
   "display_name": "Solving_Ch4p",
   "language": "python",
   "name": "python3"
  },
  "language_info": {
   "codemirror_mode": {
    "name": "ipython",
    "version": 3
   },
   "file_extension": ".py",
   "mimetype": "text/x-python",
   "name": "python",
   "nbconvert_exporter": "python",
   "pygments_lexer": "ipython3",
   "version": "3.12.4"
  }
 },
 "nbformat": 4,
 "nbformat_minor": 5
}
